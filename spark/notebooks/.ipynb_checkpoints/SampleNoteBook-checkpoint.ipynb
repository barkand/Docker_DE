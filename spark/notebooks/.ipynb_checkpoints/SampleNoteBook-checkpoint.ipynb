{
 "cells": [
  {
   "cell_type": "code",
   "execution_count": null,
   "id": "104370d2",
   "metadata": {},
   "outputs": [],
   "source": [
    "from pyspark.sql import SparkSession"
   ]
  },
  {
   "cell_type": "code",
   "execution_count": null,
   "id": "a3101859",
   "metadata": {},
   "outputs": [],
   "source": [
    "spark = SparkSession.builder \\\n",
    "    .master(\"spark://spark-master:7077\") \\\n",
    "    .appName(\"Plus\") \\\n",
    "    .getOrCreate()"
   ]
  },
  {
   "cell_type": "code",
   "execution_count": null,
   "id": "30abaf66",
   "metadata": {},
   "outputs": [],
   "source": [
    "df=spark.range(100)\n",
    "print(df.sample(0.06).collect())"
   ]
  },
  {
   "cell_type": "code",
   "execution_count": null,
   "id": "e479a5e4",
   "metadata": {},
   "outputs": [],
   "source": [
    "\n",
    "#Create RDD from parallelize    \n",
    "dataList = [(\"Java\", 20000), (\"Python\", 100000), (\"Scala\", 3000)]\n",
    "rdd=spark.sparkContext.parallelize(dataList)\n",
    "rdd.collect()"
   ]
  },
  {
   "cell_type": "code",
   "execution_count": null,
   "id": "94a4efe0",
   "metadata": {},
   "outputs": [],
   "source": [
    "print(\"SparkContext version:\\t\", spark.version) # return SparkContext version\n"
   ]
  },
  {
   "cell_type": "code",
   "execution_count": null,
   "id": "ef125376",
   "metadata": {},
   "outputs": [],
   "source": [
    "from datetime import datetime\n",
    "from pyspark.sql import Row\n",
    "\n",
    "allTypes = spark.sparkContext.parallelize([Row(i=1, s=\"string\", d=1.0, l=1,\n",
    "            b=True, list=[1, 2, 3], dict={\"s\": 0}, row=Row(a=1),\n",
    "            time=datetime(2014, 8, 1, 14, 1, 5))])\n",
    "df = allTypes.toDF()\n",
    "df.createOrReplaceTempView(\"allTypes\")\n",
    "spark.sql('select i+1, d+1, not b, list[1], dict[\"s\"], time, row.a from allTypes where b and i > 0').collect()\n"
   ]
  },
  {
   "cell_type": "code",
   "execution_count": null,
   "id": "3353e7b4",
   "metadata": {},
   "outputs": [],
   "source": [
    "df.rdd.map(lambda x: (x.i, x.s, x.d, x.l, x.b, x.time, x.row.a, x.list)).collect()"
   ]
  },
  {
   "cell_type": "code",
   "execution_count": null,
   "id": "614cf522",
   "metadata": {},
   "outputs": [],
   "source": [
    "#first , create /data/csv folder \n",
    "#  - docker exec -it namenode bash\n",
    "#  cd /data\n",
    "#  hadoop fs -mkdir -p /data/csv\n",
    "#  hadoop fs -put ./csv/* /data/csv"
   ]
  },
  {
   "cell_type": "code",
   "execution_count": null,
   "id": "fdab0045",
   "metadata": {},
   "outputs": [],
   "source": [
    "df=spark.read.csv(\"hdfs://namenode:9820/data/csv/Region.csv\",header=\"true\")\n",
    "df.show(5)"
   ]
  },
  {
   "cell_type": "code",
   "execution_count": null,
   "id": "2e6316e6",
   "metadata": {},
   "outputs": [],
   "source": [
    "spark.stop()"
   ]
  }
 ],
 "metadata": {
  "interpreter": {
   "hash": "3bd7758db473e80d32d063964dd1303f4a886bf8fe8e99aaba1e8edd06a11dc5"
  },
  "kernelspec": {
   "display_name": "Python 3 (ipykernel)",
   "language": "python",
   "name": "python3"
  },
  "language_info": {
   "codemirror_mode": {
    "name": "ipython",
    "version": 3
   },
   "file_extension": ".py",
   "mimetype": "text/x-python",
   "name": "python",
   "nbconvert_exporter": "python",
   "pygments_lexer": "ipython3",
   "version": "3.7.3"
  }
 },
 "nbformat": 4,
 "nbformat_minor": 5
}
